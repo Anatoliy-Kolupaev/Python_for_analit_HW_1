{
 "cells": [
  {
   "cell_type": "markdown",
   "id": "bc9f7c4e",
   "metadata": {},
   "source": [
    "Задача 1  \n",
    "На складе лежат разные фрукты в разном количестве.\n",
    "Нужно написать функцию, которая на вход принимает любое количество названий фруктов и их количество, а возвращает общее количество фруктов на складе"
   ]
  },
  {
   "cell_type": "code",
   "execution_count": 149,
   "id": "1fe2e8aa",
   "metadata": {},
   "outputs": [
    {
     "name": "stdout",
     "output_type": "stream",
     "text": [
      "\n",
      "ap - 10\n",
      "an - 25\n",
      "ban - 25\n",
      "kiv - 100\n",
      "общее количество фруктов = 160\n"
     ]
    }
   ],
   "source": [
    "def fruct(**kwargs):\n",
    "    print()\n",
    "    summ=0\n",
    "    for key, value in kwargs.items():\n",
    "        print(f'{key} - {value}')\n",
    "        summ +=value\n",
    "    print (f'общее количество фруктов = {summ}')\n",
    "    \n",
    "fruct(ap = 10, an = 25, ban = 25, kiv = 100)\n"
   ]
  },
  {
   "cell_type": "markdown",
   "id": "b564a250",
   "metadata": {},
   "source": [
    "Задача 2  \n",
    "Дан список с затратами на рекламу. Но в данных есть ошибки, некоторые затраты имеют отрицательную величину. Удалите такие значения из списка и посчитайте суммарные затраты\n",
    "[100, 125, -90, 345, 655, -1, 0, 200]\n",
    "Используйте list comprehensions"
   ]
  },
  {
   "cell_type": "code",
   "execution_count": 150,
   "id": "9197e954",
   "metadata": {},
   "outputs": [
    {
     "data": {
      "text/plain": [
       "1425"
      ]
     },
     "execution_count": 150,
     "metadata": {},
     "output_type": "execute_result"
    }
   ],
   "source": [
    "import numpy as np\n",
    "q = [100, 125, -90, 345, 655, -1, 0, 200]\n",
    "p = np.sum([i if i > 0 else 0 for i in q])\n",
    "p\n"
   ]
  },
  {
   "cell_type": "markdown",
   "id": "ec7f2cd1",
   "metadata": {},
   "source": [
    "Задание 3  \n",
    "Даны два списка.  \n",
    "Дата покупки\n",
    "['2021-09-14', '2021-12-15', '2021-09-08', '2021-12-05', '2021-10-09', '2021-09-30', '2021-12-22', '2021-11-29', '2021-12-24', '2021-11-26', '2021-10-27', '2021-12-18', '2021-11-09', '2021-11-23', '2021-09-27', '2021-10-02', '2021-12-27', '2021-09-20', '2021-12-13', '2021-11-01', '2021-11-09', '2021-12-06', '2021-12-08', '2021-10-09', '2021-10-31', '2021-09-30', '2021-11-09', '2021-12-13', '2021-10-26', '2021-12-09']  \n",
    "Суммы покупок по датам\n",
    "[1270, 8413, 9028, 3703, 5739, 4095, 295, 4944, 5723, 3701, 4471, 651, 7037, 4274, 6275, 4988, 6930, 2971, 6592, 2004, 2822, 519, 3406, 2732, 5015, 2008, 316, 6333, 5700, 2887]  \n",
    "Найдите, какая выручка у компании в ноябре"
   ]
  },
  {
   "cell_type": "code",
   "execution_count": 151,
   "id": "c3b479e1",
   "metadata": {},
   "outputs": [],
   "source": [
    "dp = ['2021-09-14', '2021-12-15', '2021-09-08', '2021-12-05', '2021-10-09', '2021-09-30', '2021-12-22', '2021-11-29', '2021-12-24', '2021-11-26', '2021-10-27', '2021-12-18', '2021-11-09', '2021-11-23', '2021-09-27', '2021-10-02', '2021-12-27', '2021-09-20', '2021-12-13', '2021-11-01', '2021-11-09', '2021-12-06', '2021-12-08', '2021-10-09', '2021-10-31', '2021-09-30', '2021-11-09', '2021-12-13', '2021-10-26', '2021-12-09']\n",
    "sp = [1270, 8413, 9028, 3703, 5739, 4095, 295, 4944, 5723, 3701, 4471, 651, 7037, 4274, 6275, 4988, 6930, 2971, 6592, 2004, 2822, 519, 3406, 2732, 5015, 2008, 316, 6333, 5700, 2887]"
   ]
  },
  {
   "cell_type": "code",
   "execution_count": 152,
   "id": "53088270",
   "metadata": {},
   "outputs": [
    {
     "name": "stdout",
     "output_type": "stream",
     "text": [
      "выручка в ноябре = 25098\n"
     ]
    }
   ],
   "source": [
    "print(f'выручка в ноябре = {np.sum([sp[i] for i in range(len(dp)) if \"-11-\" in dp[i]])}')\n"
   ]
  },
  {
   "cell_type": "markdown",
   "id": "fb110f50",
   "metadata": {},
   "source": [
    "Задача 4  \n",
    "Найдите выручку компании в зависимости от месяца\n",
    "Для этого напишите функцию, которая на вход принимает список с датами и список с выручкой, а на выходе словарь, где ключи - это месяцы, а значения - это выручка.\n",
    "Используйте аннотирование типов."
   ]
  },
  {
   "cell_type": "code",
   "execution_count": 153,
   "id": "51ac7c03",
   "metadata": {},
   "outputs": [
    {
     "data": {
      "text/plain": [
       "{'09': 25647, '12': 45452, '10': 28645, '11': 25098}"
      ]
     },
     "execution_count": 153,
     "metadata": {},
     "output_type": "execute_result"
    }
   ],
   "source": [
    "def money_for_month(list_date: list, list_money: list) -> dict:\n",
    "    money_Month = {}\n",
    "    for i in range(len(list_date)):\n",
    "        if list_date[i].split('-')[1] in money_Month.keys():\n",
    "            money_Month[list_date[i].split('-')[1]] += list_money[i]\n",
    "        else:\n",
    "            money_Month[list_date[i].split('-')[1]] = list_money[i]\n",
    "    return money_Month\n",
    "\n",
    "money_for_month(dp, sp)"
   ]
  },
  {
   "cell_type": "code",
   "execution_count": null,
   "id": "24f0ddb3",
   "metadata": {},
   "outputs": [],
   "source": []
  }
 ],
 "metadata": {
  "kernelspec": {
   "display_name": "Python 3 (ipykernel)",
   "language": "python",
   "name": "python3"
  },
  "language_info": {
   "codemirror_mode": {
    "name": "ipython",
    "version": 3
   },
   "file_extension": ".py",
   "mimetype": "text/x-python",
   "name": "python",
   "nbconvert_exporter": "python",
   "pygments_lexer": "ipython3",
   "version": "3.9.13"
  }
 },
 "nbformat": 4,
 "nbformat_minor": 5
}
